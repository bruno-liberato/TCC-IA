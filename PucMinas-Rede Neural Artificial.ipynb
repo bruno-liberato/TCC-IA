{
 "cells": [
  {
   "cell_type": "code",
   "execution_count": 5,
   "id": "b73c74e8",
   "metadata": {},
   "outputs": [],
   "source": [
    "## Importação das bibliotécnicas necessárias para o desenvolvimento do Projeto\n",
    "\n",
    "%matplotlib notebook\n",
    "%matplotlib inline\n",
    "\n",
    "import numpy as np\n",
    "import pandas as pd\n",
    "import seaborn as sns\n",
    "\n",
    "#Bibliotecas instalandas manualmente \n",
    "import trendet\n",
    "import investpy\n",
    "import yfinance as yf\n",
    "import mplfinance as fplt\n",
    "\n",
    "pd.set_option('display.max_columns', None)\n",
    "pd.set_option('display.max_rows', None)\n",
    "\n",
    "import warnings\n",
    "warnings.filterwarnings('ignore')"
   ]
  },
  {
   "cell_type": "code",
   "execution_count": null,
   "id": "14ea3720",
   "metadata": {},
   "outputs": [],
   "source": []
  }
 ],
 "metadata": {
  "kernelspec": {
   "display_name": "Python 3 (ipykernel)",
   "language": "python",
   "name": "python3"
  },
  "language_info": {
   "codemirror_mode": {
    "name": "ipython",
    "version": 3
   },
   "file_extension": ".py",
   "mimetype": "text/x-python",
   "name": "python",
   "nbconvert_exporter": "python",
   "pygments_lexer": "ipython3",
   "version": "3.9.7"
  }
 },
 "nbformat": 4,
 "nbformat_minor": 5
}
