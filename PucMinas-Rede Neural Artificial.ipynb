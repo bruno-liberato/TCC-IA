{
 "cells": [
  {
   "cell_type": "code",
   "execution_count": 1,
   "id": "d205e263",
   "metadata": {},
   "outputs": [],
   "source": [
    "soma = 12 * 12"
   ]
  },
  {
   "cell_type": "code",
   "execution_count": 2,
   "id": "be05c586",
   "metadata": {},
   "outputs": [
    {
     "name": "stdout",
     "output_type": "stream",
     "text": [
      "144\n"
     ]
    }
   ],
   "source": [
    "print(soma)"
   ]
  }
 ],
 "metadata": {
  "kernelspec": {
   "display_name": "Python 3 (ipykernel)",
   "language": "python",
   "name": "python3"
  },
  "language_info": {
   "codemirror_mode": {
    "name": "ipython",
    "version": 3
   },
   "file_extension": ".py",
   "mimetype": "text/x-python",
   "name": "python",
   "nbconvert_exporter": "python",
   "pygments_lexer": "ipython3",
   "version": "3.9.7"
  }
 },
 "nbformat": 4,
 "nbformat_minor": 5
}
